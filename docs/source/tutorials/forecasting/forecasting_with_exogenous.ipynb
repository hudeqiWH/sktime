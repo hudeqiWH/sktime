{
 "cells": [
  {
   "cell_type": "markdown",
   "id": "e460aedf",
   "metadata": {},
   "source": [
    "# Forecasting with Exogenous Variables\n",
    "\n",
    "This tutorial demonstrates how to perform forecasting with exogenous (external) variables in sktime.\n",
    "\n",
    "**Duration:** ~10 minutes\n",
    "\n",
    "## Learning objectives\n",
    "\n",
    "By the end of this tutorial, you will be able to:\n",
    "- Work with datasets containing exogenous variables\n",
    "- Use `all_estimators` to find forecasters that support exogenous variables\n",
    "- Apply AutoREG for forecasting with exogenous variables\n",
    "- Understand the versatility of modern forecasters like Chronos"
   ]
  },
  {
   "cell_type": "markdown",
   "id": "d8d9c854",
   "metadata": {},
   "source": [
    "## 1. Loading Dataset with Exogenous Variables\n",
    "\n",
    "Let's load a dataset that includes both the target variable and exogenous variables."
   ]
  },
  {
   "cell_type": "code",
   "execution_count": null,
   "id": "7e28b69e",
   "metadata": {},
   "outputs": [],
   "source": [
    "import pandas as pd\n",
    "import numpy as np\n",
    "import matplotlib.pyplot as plt\n",
    "from sktime.datasets import load_longley\n",
    "from sktime.utils.plotting import plot_series\n",
    "\n",
    "# Load Longley dataset (economic data with multiple variables)\n",
    "y, X = load_longley(return_X_y=True)\n",
    "\n",
    "print(f\"Target variable (y) shape: {y.shape}\")\n",
    "print(f\"Exogenous variables (X) shape: {X.shape}\")\n",
    "print(f\"\\nTarget variable (Employment):\")\n",
    "print(y.head())\n",
    "print(f\"\\nExogenous variables:\")\n",
    "print(X.head())"
   ]
  },
  {
   "cell_type": "markdown",
   "id": "90e2bd81",
   "metadata": {},
   "source": [
    "## 2. Exploring the Dataset"
   ]
  },
  {
   "cell_type": "code",
   "execution_count": null,
   "id": "6e1b3f37",
   "metadata": {},
   "outputs": [],
   "source": [
    "# Plot the target variable\n",
    "plt.figure(figsize=(12, 4))\n",
    "plot_series(y, title=\"Employment (Target Variable)\")\n",
    "plt.show()\n",
    "\n",
    "# Plot some exogenous variables\n",
    "fig, axes = plt.subplots(2, 2, figsize=(15, 8))\n",
    "axes = axes.ravel()\n",
    "\n",
    "for i, col in enumerate(X.columns[:4]):\n",
    "    plot_series(X[col], ax=axes[i], title=f\"{col}\")\n",
    "\n",
    "plt.tight_layout()\n",
    "plt.show()"
   ]
  },
  {
   "cell_type": "markdown",
   "id": "02a539ba",
   "metadata": {},
   "source": [
    "## 3. Finding Forecasters that Support Exogenous Variables\n",
    "\n",
    "Let's use `all_estimators` to discover which forecasters support exogenous variables."
   ]
  },
  {
   "cell_type": "code",
   "execution_count": null,
   "id": "9966ea09",
   "metadata": {},
   "outputs": [],
   "source": [
    "from sktime.registry import all_estimators\n",
    "\n",
    "# Get all forecasters that support exogenous variables\n",
    "forecasters_with_X = all_estimators(\n",
    "    estimator_types=\"forecaster\",\n",
    "    filter_tags={\"X-y-must-have-same-index\": True},\n",
    "    return_names=False\n",
    ")\n",
    "\n",
    "print(f\"Found {len(forecasters_with_X)} forecasters supporting exogenous variables:\")\n",
    "for i, forecaster_class in enumerate(forecasters_with_X[:10]):  # Show first 10\n",
    "    print(f\"{i+1}. {forecaster_class.__name__}\")\n",
    "\n",
    "if len(forecasters_with_X) > 10:\n",
    "    print(f\"... and {len(forecasters_with_X) - 10} more\")"
   ]
  },
  {
   "cell_type": "markdown",
   "id": "c1386b10",
   "metadata": {},
   "source": [
    "## 4. Preparing Data for Forecasting\n",
    "\n",
    "Let's split our data and prepare it for forecasting."
   ]
  },
  {
   "cell_type": "code",
   "execution_count": null,
   "id": "b40e5343",
   "metadata": {},
   "outputs": [],
   "source": [
    "# Split data: use first 12 observations for training, last 4 for testing\n",
    "split_point = -4\n",
    "y_train, y_test = y.iloc[:split_point], y.iloc[split_point:]\n",
    "X_train, X_test = X.iloc[:split_point], X.iloc[split_point:]\n",
    "\n",
    "print(f\"Training period: {y_train.index[0]} to {y_train.index[-1]} ({len(y_train)} observations)\")\n",
    "print(f\"Test period: {y_test.index[0]} to {y_test.index[-1]} ({len(y_test)} observations)\")\n",
    "\n",
    "# Plot training and test data\n",
    "plot_series(y_train, y_test, labels=[\"Training\", \"Test\"], title=\"Train/Test Split\")\n",
    "plt.show()"
   ]
  },
  {
   "cell_type": "markdown",
   "id": "d06459b1",
   "metadata": {},
   "source": [
    "## 5. Forecasting with AutoREG\n",
    "\n",
    "AutoREG (Autoregressive model with eXogenous variables) is a simple but effective forecaster that can use exogenous variables."
   ]
  },
  {
   "cell_type": "code",
   "execution_count": null,
   "id": "6eb153d8",
   "metadata": {},
   "outputs": [],
   "source": [
    "from sktime.forecasting.statsforecast import StatsForecastAutoARIMA\n",
    "# If StatsForecast is not available, we'll use a simple alternative\n",
    "try:\n",
    "    from sktime.forecasting.statsforecast import StatsForecastAutoARIMA as AutoREG\n",
    "except ImportError:\n",
    "    from sktime.forecasting.arima import AutoARIMA as AutoREG\n",
    "    print(\"Using AutoARIMA as alternative to AutoREG\")\n",
    "\n",
    "# Initialize the forecaster\n",
    "forecaster_autoreg = AutoREG()\n",
    "\n",
    "print(f\"Forecaster: {forecaster_autoreg}\")"
   ]
  },
  {
   "cell_type": "markdown",
   "id": "7ad852b7",
   "metadata": {},
   "source": [
    "### 5.1 Fit the Model with Exogenous Variables"
   ]
  },
  {
   "cell_type": "code",
   "execution_count": null,
   "id": "5e67b918",
   "metadata": {},
   "outputs": [],
   "source": [
    "# Fit the forecaster with both y and X\n",
    "forecaster_autoreg.fit(y_train, X=X_train)\n",
    "print(\"AutoREG model fitted with exogenous variables!\")"
   ]
  },
  {
   "cell_type": "markdown",
   "id": "9aab625e",
   "metadata": {},
   "source": [
    "### 5.2 Make Predictions with Exogenous Variables"
   ]
  },
  {
   "cell_type": "code",
   "execution_count": null,
   "id": "8cbdebaf",
   "metadata": {},
   "outputs": [],
   "source": [
    "# Generate forecasts - need to provide X_test for the forecast period\n",
    "fh = range(1, len(y_test) + 1)\n",
    "y_pred_autoreg = forecaster_autoreg.predict(fh=fh, X=X_test)\n",
    "\n",
    "print(f\"Forecast shape: {y_pred_autoreg.shape}\")\n",
    "print(f\"Predictions: {y_pred_autoreg.values}\")\n",
    "print(f\"Actual values: {y_test.values}\")"
   ]
  },
  {
   "cell_type": "markdown",
   "id": "0384f8e5",
   "metadata": {},
   "source": [
    "### 5.3 Visualize Results"
   ]
  },
  {
   "cell_type": "code",
   "execution_count": null,
   "id": "123f6abe",
   "metadata": {},
   "outputs": [],
   "source": [
    "# Plot the results\n",
    "plot_series(\n",
    "    y_train, y_test, y_pred_autoreg,\n",
    "    labels=[\"Training\", \"Actual\", \"AutoREG Forecast\"],\n",
    "    title=\"AutoREG Forecast with Exogenous Variables\"\n",
    ")\n",
    "plt.legend()\n",
    "plt.show()"
   ]
  },
  {
   "cell_type": "markdown",
   "id": "4e84202b",
   "metadata": {},
   "source": [
    "## 6. Comparison: With vs Without Exogenous Variables\n",
    "\n",
    "Let's compare the performance when using exogenous variables vs. not using them."
   ]
  },
  {
   "cell_type": "code",
   "execution_count": null,
   "id": "c04d5b9f",
   "metadata": {},
   "outputs": [],
   "source": [
    "# Fit the same model without exogenous variables\n",
    "forecaster_no_X = AutoREG()\n",
    "forecaster_no_X.fit(y_train)  # No X provided\n",
    "y_pred_no_X = forecaster_no_X.predict(fh=fh)  # No X for prediction\n",
    "\n",
    "# Calculate performance metrics\n",
    "from sktime.performance_metrics.forecasting import mean_absolute_percentage_error, mean_squared_error\n",
    "\n",
    "mape_with_X = mean_absolute_percentage_error(y_test, y_pred_autoreg)\n",
    "mape_without_X = mean_absolute_percentage_error(y_test, y_pred_no_X)\n",
    "rmse_with_X = np.sqrt(mean_squared_error(y_test, y_pred_autoreg))\n",
    "rmse_without_X = np.sqrt(mean_squared_error(y_test, y_pred_no_X))\n",
    "\n",
    "print(\"Performance Comparison:\")\n",
    "print(f\"With Exogenous Variables:    MAPE = {mape_with_X:.2%}, RMSE = {rmse_with_X:.2f}\")\n",
    "print(f\"Without Exogenous Variables: MAPE = {mape_without_X:.2%}, RMSE = {rmse_without_X:.2f}\")\n",
    "print(f\"\\nImprovement with exogenous variables:\")\n",
    "print(f\"MAPE: {((mape_without_X - mape_with_X) / mape_without_X * 100):.1f}% better\")\n",
    "print(f\"RMSE: {((rmse_without_X - rmse_with_X) / rmse_without_X * 100):.1f}% better\")"
   ]
  },
  {
   "cell_type": "markdown",
   "id": "35933d8b",
   "metadata": {},
   "source": [
    "## 7. Advanced Example: Modern Forecasters\n",
    "\n",
    "Let's demonstrate the versatility of modern forecasting approaches. Note: This example shows how you could use advanced models like Chronos if available."
   ]
  },
  {
   "cell_type": "code",
   "execution_count": null,
   "id": "403eeca1",
   "metadata": {},
   "outputs": [],
   "source": [
    "# Example of how to check for and use advanced forecasters\n",
    "# Note: This is demonstration code - Chronos may not be available in all environments\n",
    "\n",
    "try:\n",
    "    # Check if advanced forecasters are available\n",
    "    from sktime.forecasting.llm import LLMForecaster\n",
    "    print(\"Advanced LLM-based forecasters are available!\")\n",
    "    print(\"These can handle complex patterns and don't always require traditional feature engineering.\")\n",
    "except ImportError:\n",
    "    print(\"Advanced LLM-based forecasters not available in this environment.\")\n",
    "    print(\"For production use, consider forecasters like:\")\n",
    "    print(\"- LightGBM-based forecasters for complex feature interactions\")\n",
    "    print(\"- Deep learning models for non-linear patterns\")\n",
    "    print(\"- Ensemble methods for robust predictions\")\n",
    "\n",
    "# Show some other advanced forecasters that work well with exogenous variables\n",
    "from sktime.forecasting.compose import make_reduction\n",
    "from sklearn.ensemble import RandomForestRegressor\n",
    "\n",
    "# Create a reduction-based forecaster\n",
    "rf_forecaster = make_reduction(\n",
    "    RandomForestRegressor(n_estimators=100, random_state=42),\n",
    "    window_length=3,\n",
    "    strategy=\"recursive\"\n",
    ")\n",
    "\n",
    "print(f\"\\nReduction-based forecaster created: {rf_forecaster}\")\n",
    "print(\"This approach can naturally handle exogenous variables and complex patterns.\")"
   ]
  },
  {
   "cell_type": "markdown",
   "id": "931dec4a",
   "metadata": {},
   "source": [
    "## 8. Key Considerations for Exogenous Variables\n",
    "\n",
    "When working with exogenous variables, keep these important points in mind:"
   ]
  },
  {
   "cell_type": "code",
   "execution_count": null,
   "id": "077ce925",
   "metadata": {},
   "outputs": [],
   "source": [
    "# Demonstrate key considerations\n",
    "print(\"Key Considerations for Exogenous Variables:\")\n",
    "print(\"\\n1. Future Values Required:\")\n",
    "print(f\"   - X_train shape: {X_train.shape}\")\n",
    "print(f\"   - X_test shape: {X_test.shape}\")\n",
    "print(\"   - You need future values of X to make forecasts!\")\n",
    "\n",
    "print(\"\\n2. Index Alignment:\")\n",
    "print(f\"   - y_test index: {list(y_test.index)}\")\n",
    "print(f\"   - X_test index: {list(X_test.index)}\")\n",
    "print(\"   - Indices must match exactly\")\n",
    "\n",
    "print(\"\\n3. Variable Selection:\")\n",
    "print(f\"   - Current X variables: {list(X.columns)}\")\n",
    "print(\"   - Consider correlation with target and forecasting horizon\")\n",
    "\n",
    "# Show correlation with target\n",
    "correlations = X_train.corrwith(y_train).sort_values(key=abs, ascending=False)\n",
    "print(f\"\\nCorrelations with target variable:\")\n",
    "for var, corr in correlations.items():\n",
    "    print(f\"   {var}: {corr:.3f}\")"
   ]
  },
  {
   "cell_type": "markdown",
   "id": "fd1e51e6",
   "metadata": {},
   "source": [
    "## Summary\n",
    "\n",
    "In this tutorial, you learned:\n",
    "\n",
    "1. **Exogenous Variables**: How to work with datasets containing external variables\n",
    "2. **Forecaster Discovery**: Using `all_estimators` to find suitable forecasters\n",
    "3. **AutoREG Usage**: Applying autoregressive models with exogenous variables\n",
    "4. **Performance Comparison**: Measuring the impact of exogenous variables\n",
    "5. **Advanced Approaches**: Understanding modern forecasting capabilities\n",
    "6. **Key Considerations**: Important points for successful implementation\n",
    "\n",
    "## Important Takeaways\n",
    "\n",
    "- **Future Values**: You need future values of exogenous variables to forecast\n",
    "- **Index Alignment**: Target and exogenous variables must have matching indices\n",
    "- **Variable Selection**: Not all exogenous variables improve forecasting performance\n",
    "- **Model Choice**: Different forecasters handle exogenous variables differently\n",
    "\n",
    "## Next Steps\n",
    "\n",
    "- Explore \"Transformations\" to learn about feature engineering\n",
    "- Try \"Pipelines\" tutorial for advanced preprocessing workflows\n",
    "- Check \"Hyperparameter Tuning\" for optimizing forecaster performance"
   ]
  }
 ],
 "metadata": {
  "language_info": {
   "name": "python"
  }
 },
 "nbformat": 4,
 "nbformat_minor": 5
}
