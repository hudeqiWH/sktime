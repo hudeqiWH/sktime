{
 "cells": [
  {
   "cell_type": "markdown",
   "id": "adfa9b8a",
   "metadata": {},
   "source": [
    "# Forecasting Univariate Time Series\n",
    "\n",
    "This tutorial introduces the basics of time series forecasting in sktime using univariate data.\n",
    "\n",
    "**Duration:** ~15 minutes\n",
    "\n",
    "## Learning objectives\n",
    "\n",
    "By the end of this tutorial, you will be able to:\n",
    "- Load and understand simple time series datasets\n",
    "- Understand pandas structure in sktime\n",
    "- Use the sktime forecasting API with `y` and `fh` arguments\n",
    "- Work with relative and absolute forecast horizons\n",
    "- Perform forecasting with exponential smoothing"
   ]
  },
  {
   "cell_type": "markdown",
   "id": "9fca92fe",
   "metadata": {},
   "source": [
    "## 1. Loading a Simple Dataset\n",
    "\n",
    "Let's start by loading the classic airline passengers dataset, which contains monthly totals of international airline passengers from 1949 to 1960."
   ]
  },
  {
   "cell_type": "code",
   "execution_count": null,
   "id": "e6e3b0e0",
   "metadata": {},
   "outputs": [],
   "source": [
    "import matplotlib.pyplot as plt\n",
    "import numpy as np\n",
    "import pandas as pd\n",
    "\n",
    "from sktime.datasets import load_airline\n",
    "from sktime.forecasting.exp_smoothing import ExponentialSmoothing\n",
    "from sktime.utils.plotting import plot_series\n",
    "\n",
    "# Load the airline dataset\n",
    "y = load_airline()\n",
    "print(f\"Dataset shape: {y.shape}\")\n",
    "print(f\"Dataset type: {type(y)}\")\n",
    "print(f\"Index type: {type(y.index)}\")\n",
    "print(y.head())"
   ]
  },
  {
   "cell_type": "markdown",
   "id": "d6a08def",
   "metadata": {},
   "source": [
    "## 2. Understanding pandas Structure in sktime\n",
    "\n",
    "In sktime, univariate time series are represented as pandas Series with a time-based index."
   ]
  },
  {
   "cell_type": "code",
   "execution_count": null,
   "id": "ae8d93d0",
   "metadata": {},
   "outputs": [],
   "source": [
    "# Examine the structure\n",
    "print(\"First 10 values:\")\n",
    "print(y.head(10))\n",
    "print(\"\\nIndex information:\")\n",
    "print(f\"Index name: {y.index.name}\")\n",
    "print(f\"Index frequency: {y.index.freq}\")\n",
    "print(f\"Start date: {y.index[0]}\")\n",
    "print(f\"End date: {y.index[-1]}\")\n",
    "\n",
    "# Plot the time series\n",
    "plot_series(y, title=\"Airline Passengers Dataset\")\n",
    "plt.show()"
   ]
  },
  {
   "cell_type": "markdown",
   "id": "084ab21e",
   "metadata": {},
   "source": [
    "## 3. sktime Forecasting API: y and fh Arguments\n",
    "\n",
    "The core of sktime's forecasting API involves two key arguments:\n",
    "- `y`: The time series data to forecast from\n",
    "- `fh`: The forecast horizon (when to forecast)\n",
    "\n",
    "Let's split our data into training and test sets:"
   ]
  },
  {
   "cell_type": "code",
   "execution_count": null,
   "id": "c44ad377",
   "metadata": {},
   "outputs": [],
   "source": [
    "# Split data: use first 108 observations for training, last 36 for testing\n",
    "y_train = y.iloc[:-36]\n",
    "y_test = y.iloc[-36:]\n",
    "\n",
    "print(\n",
    "    f\"Training data: {y_train.index[0]} to {y_train.index[-1]} ({len(y_train)} observations)\"\n",
    ")\n",
    "print(\n",
    "    f\"Test data: {y_test.index[0]} to {y_test.index[-1]} ({len(y_test)} observations)\"\n",
    ")\n",
    "\n",
    "# Plot training and test data\n",
    "plot_series(y_train, y_test, labels=[\"Training\", \"Test\"], title=\"Train/Test Split\")\n",
    "plt.show()"
   ]
  },
  {
   "cell_type": "markdown",
   "id": "0e4af6f7",
   "metadata": {},
   "source": [
    "## 4. Forecast Horizons: Relative and Absolute\n",
    "\n",
    "The forecast horizon (`fh`) can be specified in two ways:"
   ]
  },
  {
   "cell_type": "markdown",
   "id": "281297a0",
   "metadata": {},
   "source": [
    "### 4.1 Relative Forecast Horizon\n",
    "\n",
    "Relative horizons specify how many steps ahead to forecast from the end of the training data."
   ]
  },
  {
   "cell_type": "code",
   "execution_count": null,
   "id": "b4ce279d",
   "metadata": {},
   "outputs": [],
   "source": [
    "from sktime.forecasting.base import ForecastingHorizon\n",
    "\n",
    "# Relative forecast horizon: 1 to 36 steps ahead\n",
    "fh_relative = ForecastingHorizon(range(1, 37), is_relative=True)\n",
    "print(f\"Relative FH: {fh_relative}\")\n",
    "\n",
    "# Or more simply:\n",
    "fh_simple = range(1, 37)\n",
    "print(f\"Simple FH: {list(fh_simple)}\")"
   ]
  },
  {
   "cell_type": "markdown",
   "id": "a0c32954",
   "metadata": {},
   "source": [
    "### 4.2 Absolute Forecast Horizon\n",
    "\n",
    "Absolute horizons specify exact time points to forecast."
   ]
  },
  {
   "cell_type": "code",
   "execution_count": null,
   "id": "d001331d",
   "metadata": {},
   "outputs": [],
   "source": [
    "# Absolute forecast horizon: specific dates\n",
    "fh_absolute = ForecastingHorizon(y_test.index, is_relative=False)\n",
    "print(f\"Absolute FH: {fh_absolute.to_pandas()[:5]}...\")  # Show first 5\n",
    "\n",
    "# Or directly using the test index\n",
    "fh_test_index = y_test.index\n",
    "print(f\"Test index as FH: {fh_test_index[:5]}...\")  # Show first 5"
   ]
  },
  {
   "cell_type": "markdown",
   "id": "c9fc7ce0",
   "metadata": {},
   "source": [
    "## 5. Forecasting with Exponential Smoothing\n",
    "\n",
    "Now let's create our first forecast using exponential smoothing, a simple but effective forecasting method."
   ]
  },
  {
   "cell_type": "code",
   "execution_count": null,
   "id": "2fc9d6c0",
   "metadata": {},
   "outputs": [],
   "source": [
    "# Initialize the forecaster\n",
    "forecaster = ExponentialSmoothing(\n",
    "    trend=\"add\",  # Additive trend\n",
    "    seasonal=\"multiplicative\",  # Multiplicative seasonality\n",
    "    sp=12,  # Seasonal period of 12 months\n",
    ")\n",
    "\n",
    "print(f\"Forecaster: {forecaster}\")"
   ]
  },
  {
   "cell_type": "markdown",
   "id": "ff84ad08",
   "metadata": {},
   "source": [
    "### 5.1 Fit the Model"
   ]
  },
  {
   "cell_type": "code",
   "execution_count": null,
   "id": "e82a1d1d",
   "metadata": {},
   "outputs": [],
   "source": [
    "# Fit the forecaster to training data\n",
    "forecaster.fit(y_train)\n",
    "print(\"Model fitted successfully!\")"
   ]
  },
  {
   "cell_type": "markdown",
   "id": "20bd2f0b",
   "metadata": {},
   "source": [
    "### 5.2 Make Predictions"
   ]
  },
  {
   "cell_type": "code",
   "execution_count": null,
   "id": "3b270bcf",
   "metadata": {},
   "outputs": [],
   "source": [
    "# Generate forecasts using relative horizon\n",
    "y_pred = forecaster.predict(fh=range(1, 37))\n",
    "\n",
    "print(f\"Forecast shape: {y_pred.shape}\")\n",
    "print(f\"Forecast index: {y_pred.index[:5]}...\")  # Show first 5\n",
    "print(\"\\nFirst 5 predictions:\")\n",
    "print(y_pred.head())"
   ]
  },
  {
   "cell_type": "markdown",
   "id": "e06368fd",
   "metadata": {},
   "source": [
    "### 5.3 Visualize Results"
   ]
  },
  {
   "cell_type": "code",
   "execution_count": null,
   "id": "52fd4a17",
   "metadata": {},
   "outputs": [],
   "source": [
    "# Plot the results\n",
    "plot_series(\n",
    "    y_train,\n",
    "    y_test,\n",
    "    y_pred,\n",
    "    labels=[\"Training\", \"Actual\", \"Forecast\"],\n",
    "    title=\"Exponential Smoothing Forecast\",\n",
    ")\n",
    "plt.legend()\n",
    "plt.show()"
   ]
  },
  {
   "cell_type": "markdown",
   "id": "8772a758",
   "metadata": {},
   "source": [
    "### 5.4 Evaluate the Forecast"
   ]
  },
  {
   "cell_type": "code",
   "execution_count": null,
   "id": "89102143",
   "metadata": {},
   "outputs": [],
   "source": [
    "from sktime.performance_metrics.forecasting import (\n",
    "    mean_absolute_percentage_error,\n",
    "    mean_squared_error,\n",
    ")\n",
    "\n",
    "# Calculate error metrics\n",
    "mape = mean_absolute_percentage_error(y_test, y_pred)\n",
    "mse = mean_squared_error(y_test, y_pred)\n",
    "rmse = np.sqrt(mse)\n",
    "\n",
    "print(f\"Mean Absolute Percentage Error (MAPE): {mape:.2%}\")\n",
    "print(f\"Root Mean Squared Error (RMSE): {rmse:.2f}\")\n",
    "print(f\"Mean Squared Error (MSE): {mse:.2f}\")"
   ]
  },
  {
   "cell_type": "markdown",
   "id": "d1ada1a8",
   "metadata": {},
   "source": [
    "## 6. Alternative Forecast Approaches\n",
    "\n",
    "Let's explore different ways to specify forecast horizons:"
   ]
  },
  {
   "cell_type": "code",
   "execution_count": null,
   "id": "df5e8835",
   "metadata": {},
   "outputs": [],
   "source": [
    "# Method 1: Using specific steps\n",
    "fh_specific = [1, 6, 12, 24, 36]  # 1, 6, 12, 24, 36 months ahead\n",
    "y_pred_specific = forecaster.predict(fh=fh_specific)\n",
    "print(f\"Specific steps forecast: {y_pred_specific}\")\n",
    "\n",
    "# Method 2: Using absolute dates\n",
    "future_dates = pd.date_range(\n",
    "    start=y_train.index[-1] + pd.DateOffset(months=1), periods=12, freq=\"MS\"\n",
    ")\n",
    "y_pred_absolute = forecaster.predict(fh=future_dates)\n",
    "print(f\"\\nAbsolute dates forecast (first 5): {y_pred_absolute.head()}\")"
   ]
  },
  {
   "cell_type": "markdown",
   "id": "85f251f0",
   "metadata": {},
   "source": [
    "## Summary\n",
    "\n",
    "In this tutorial, you learned:\n",
    "\n",
    "1. **Data Loading**: How to load simple time series datasets in sktime\n",
    "2. **Data Structure**: Understanding pandas Series structure for time series\n",
    "3. **API Basics**: The fundamental `y` and `fh` arguments in sktime forecasting\n",
    "4. **Forecast Horizons**: Difference between relative and absolute forecast horizons\n",
    "5. **Model Fitting**: How to fit and predict with ExponentialSmoothing\n",
    "6. **Evaluation**: Basic forecast evaluation metrics\n",
    "\n",
    "## Next Steps\n",
    "\n",
    "- Try the \"Forecasting with Exogenous Variables\" tutorial to learn about more complex datasets\n",
    "- Explore the \"Transformations\" tutorial to learn about data preprocessing\n",
    "- Check out \"Cross-validation and Metrics\" for more robust evaluation techniques"
   ]
  }
 ],
 "metadata": {
  "language_info": {
   "name": "python"
  }
 },
 "nbformat": 4,
 "nbformat_minor": 5
}
